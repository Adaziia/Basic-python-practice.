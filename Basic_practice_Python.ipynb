{
  "nbformat": 4,
  "nbformat_minor": 0,
  "metadata": {
    "colab": {
      "provenance": []
    },
    "kernelspec": {
      "name": "python3",
      "display_name": "Python 3"
    },
    "language_info": {
      "name": "python"
    }
  },
  "cells": [
    {
      "cell_type": "markdown",
      "source": [],
      "metadata": {
        "id": "sUyK_Ci7E6o5"
      }
    },
    {
      "cell_type": "markdown",
      "source": [
        "Variable: Storte the values\n",
        "We check in a patient name John Swith\n",
        "He is 20 years old\n",
        "He is a new patient"
      ],
      "metadata": {
        "id": "5OYSgfxm4j9w"
      }
    },
    {
      "cell_type": "code",
      "source": [
        "Patient_name=input('Enter the Patient name :')\n",
        "Age=20"
      ],
      "metadata": {
        "colab": {
          "base_uri": "https://localhost:8080/"
        },
        "id": "Mhtj3b_G43aZ",
        "outputId": "7681d5bf-c9fa-4f4b-9383-926fc9d14fc6"
      },
      "execution_count": null,
      "outputs": [
        {
          "name": "stdout",
          "output_type": "stream",
          "text": [
            "Enter the Patient name :John Smith\n"
          ]
        }
      ]
    },
    {
      "cell_type": "code",
      "source": [
        "print('His name is',Patient_name,'He is',str(Age),'years old')\n",
        "print('He is a new patient')"
      ],
      "metadata": {
        "colab": {
          "base_uri": "https://localhost:8080/"
        },
        "id": "avC-sxCl5GyO",
        "outputId": "50dc4918-dccc-4399-a964-b63667530f96"
      },
      "execution_count": null,
      "outputs": [
        {
          "output_type": "stream",
          "name": "stdout",
          "text": [
            "His name is John Smith He is 20 years old\n",
            "He is a new patient\n"
          ]
        }
      ]
    },
    {
      "cell_type": "markdown",
      "source": [
        "Types of Datatypes:\n",
        "1,2,3=numbers(int)\n",
        "2.4=float(float)\n",
        "True= boolean\n",
        "\"Character\"= String(str)"
      ],
      "metadata": {
        "id": "5PVFXF227VDz"
      }
    },
    {
      "cell_type": "markdown",
      "source": [
        "Types Conversion:"
      ],
      "metadata": {
        "id": "5NQ12EWK7ziA"
      }
    },
    {
      "cell_type": "code",
      "source": [
        "Birth_year=int(input('Enter your Birth_year: '))\n",
        "age=2023-Birth_year\n",
        "print(age)"
      ],
      "metadata": {
        "colab": {
          "base_uri": "https://localhost:8080/"
        },
        "id": "rIdRzIml73oY",
        "outputId": "f7ac0a11-bc5c-4692-fa3a-466c32e87909"
      },
      "execution_count": null,
      "outputs": [
        {
          "output_type": "stream",
          "name": "stdout",
          "text": [
            "Enter your Birth_year: 2001\n",
            "22\n"
          ]
        }
      ]
    },
    {
      "cell_type": "code",
      "source": [
        "First=input('First: ')\n",
        "Second=input('Second: ')\n",
        "Sum=float(First)+float(Second)\n",
        "print('The Sum of First and Second is',str(Sum))"
      ],
      "metadata": {
        "colab": {
          "base_uri": "https://localhost:8080/"
        },
        "id": "eAmAGpk38Yh_",
        "outputId": "1b3c6dc8-4d71-4ce4-97f6-a4f55b0ba904"
      },
      "execution_count": null,
      "outputs": [
        {
          "output_type": "stream",
          "name": "stdout",
          "text": [
            "First: 26.9\n",
            "Second: 59.0\n",
            "The Sum of First and Second is 85.9\n"
          ]
        }
      ]
    },
    {
      "cell_type": "markdown",
      "source": [
        "STRINGS:"
      ],
      "metadata": {
        "id": "PvnS1rnB92kG"
      }
    },
    {
      "cell_type": "code",
      "source": [
        "Course='Python for Beginner'\n",
        "print(Course.upper())\n",
        "print(Course.lower())\n",
        "print(Course.find('y'))\n",
        "print(Course.replace('for','4'))"
      ],
      "metadata": {
        "colab": {
          "base_uri": "https://localhost:8080/"
        },
        "id": "pKSXuqyx95Z8",
        "outputId": "fc2e7481-7751-4570-a217-4744ba0968be"
      },
      "execution_count": null,
      "outputs": [
        {
          "output_type": "stream",
          "name": "stdout",
          "text": [
            "PYTHON FOR BEGINNER\n",
            "python for beginner\n",
            "1\n",
            "Python 4 Beginner\n"
          ]
        }
      ]
    },
    {
      "cell_type": "markdown",
      "source": [
        "Arithmetic Operator"
      ],
      "metadata": {
        "id": "cBF46W53-gFl"
      }
    },
    {
      "cell_type": "code",
      "source": [
        "print(5+12)\n",
        "print(5-12)\n",
        "print(5*12)\n",
        "print(5/12)\n",
        "print(5//12)\n"
      ],
      "metadata": {
        "colab": {
          "base_uri": "https://localhost:8080/"
        },
        "id": "izFq37Ej9q_X",
        "outputId": "936f2bd6-c4df-4968-dc34-83f5fc3700c7"
      },
      "execution_count": null,
      "outputs": [
        {
          "output_type": "stream",
          "name": "stdout",
          "text": [
            "17\n",
            "-7\n",
            "60\n",
            "0.4166666666666667\n",
            "0\n"
          ]
        }
      ]
    },
    {
      "cell_type": "code",
      "source": [
        "x=10\n",
        "x=x+3\n",
        "print(x)\n"
      ],
      "metadata": {
        "colab": {
          "base_uri": "https://localhost:8080/"
        },
        "id": "qdhG1ATv7s00",
        "outputId": "143b2654-127f-4dca-8188-6514b1c30d0b"
      },
      "execution_count": null,
      "outputs": [
        {
          "output_type": "stream",
          "name": "stdout",
          "text": [
            "13\n"
          ]
        }
      ]
    },
    {
      "cell_type": "markdown",
      "source": [],
      "metadata": {
        "id": "Z6Z02baNE5hA"
      }
    },
    {
      "cell_type": "code",
      "source": [
        "x=10\n",
        "x+=3\n",
        "print(x)"
      ],
      "metadata": {
        "colab": {
          "base_uri": "https://localhost:8080/"
        },
        "id": "OTfp2Ih37uXb",
        "outputId": "58ae8178-74cc-4cd9-ed27-d7ef00997cb2"
      },
      "execution_count": null,
      "outputs": [
        {
          "output_type": "stream",
          "name": "stdout",
          "text": [
            "13\n"
          ]
        }
      ]
    },
    {
      "cell_type": "code",
      "source": [
        "x=10\n",
        "x=x-3\n",
        "print(x)"
      ],
      "metadata": {
        "colab": {
          "base_uri": "https://localhost:8080/"
        },
        "id": "ATqWnNxA_3b6",
        "outputId": "db992156-f197-4136-8584-be2b99a56743"
      },
      "execution_count": null,
      "outputs": [
        {
          "output_type": "stream",
          "name": "stdout",
          "text": [
            "7\n"
          ]
        }
      ]
    },
    {
      "cell_type": "code",
      "source": [
        "x=10\n",
        "x-=3\n",
        "print(x)"
      ],
      "metadata": {
        "id": "polmcSDL_-Pz"
      },
      "execution_count": null,
      "outputs": []
    },
    {
      "cell_type": "code",
      "source": [
        "x=10+3*5\n",
        "print(x)\n",
        "y=(10+3)*5\n",
        "print(y)"
      ],
      "metadata": {
        "colab": {
          "base_uri": "https://localhost:8080/"
        },
        "id": "hSGQqwrfHEVQ",
        "outputId": "1e3eec41-0405-4626-8af5-bd8a9846067f"
      },
      "execution_count": 41,
      "outputs": [
        {
          "output_type": "stream",
          "name": "stdout",
          "text": [
            "25\n",
            "65\n"
          ]
        }
      ]
    },
    {
      "cell_type": "markdown",
      "source": [
        "COMPARISON OPERATORS:\n"
      ],
      "metadata": {
        "id": "LNAkO7YKHRQP"
      }
    },
    {
      "cell_type": "code",
      "source": [
        "x=3>8\n",
        "print(x)\n",
        "x=3<8\n",
        "print(x)\n",
        "x=3<=8\n",
        "print(x)\n",
        "x=3>=8\n",
        "print(x)\n",
        "x=3==8\n",
        "print(x)\n",
        "x=3!=8\n",
        "print(x)"
      ],
      "metadata": {
        "colab": {
          "base_uri": "https://localhost:8080/"
        },
        "id": "brwTL4rtHU_3",
        "outputId": "24e2de9c-613b-4eaf-a960-0ba1c825fc7d"
      },
      "execution_count": 46,
      "outputs": [
        {
          "output_type": "stream",
          "name": "stdout",
          "text": [
            "False\n",
            "True\n",
            "True\n",
            "False\n",
            "False\n",
            "True\n"
          ]
        }
      ]
    },
    {
      "cell_type": "markdown",
      "source": [
        "LOGICAL OPERATORS"
      ],
      "metadata": {
        "id": "BwarAtq2H67r"
      }
    },
    {
      "cell_type": "code",
      "source": [
        "price=25\n",
        "print(price<45 and price>45)\n",
        "print(price<45 or price>45)\n",
        "print(not price>10)"
      ],
      "metadata": {
        "colab": {
          "base_uri": "https://localhost:8080/"
        },
        "id": "hEtJxPZNIAax",
        "outputId": "68ea70e4-c5a5-48c0-9a5c-da6feedb7d04"
      },
      "execution_count": 48,
      "outputs": [
        {
          "output_type": "stream",
          "name": "stdout",
          "text": [
            "False\n",
            "True\n",
            "False\n"
          ]
        }
      ]
    },
    {
      "cell_type": "markdown",
      "source": [
        "IF STATEMENTS( use to take decision in python)"
      ],
      "metadata": {
        "id": "evvCe-SqIg-I"
      }
    },
    {
      "cell_type": "code",
      "source": [
        "temp=int(input('Enter the temperature: '))\n",
        "if temp>30:\n",
        "  print(\"It's a hot day\")\n",
        "elif temp>20:\n",
        "  print(\"It's a nice day\")\n",
        "elif temp>10:\n",
        "  print(\"It's a bit cold\")\n",
        "else:\n",
        "  print(\"It's a cold day\")"
      ],
      "metadata": {
        "colab": {
          "base_uri": "https://localhost:8080/"
        },
        "id": "4B1bOTBzInd4",
        "outputId": "6bf9c9f9-a04b-4a42-e425-5d1a9e1e1c70"
      },
      "execution_count": 51,
      "outputs": [
        {
          "output_type": "stream",
          "name": "stdout",
          "text": [
            "Enter the temperature: 35\n",
            "It's a hot day\n"
          ]
        }
      ]
    },
    {
      "cell_type": "markdown",
      "source": [
        "EXERCISE:\n",
        "Weight=170\n",
        "weight in (K)gs or (L)bds:\n",
        "weight in kgs is 76.5"
      ],
      "metadata": {
        "id": "k5VG_5wtJfCo"
      }
    },
    {
      "cell_type": "code",
      "source": [
        "Weight=int(input('Enter the weight: '))\n",
        "unit=input('Enter the (K)g or (L)bs: ')\n",
        "if unit.upper()==\"K\":\n",
        "  converted=Weight/0.45\n",
        "  print('Weight in (L)bs:'+str(converted))\n",
        "else:\n",
        "  converted=Weight*0.45\n",
        "  print('Weight in (K)gs:'+str(converted))\n"
      ],
      "metadata": {
        "colab": {
          "base_uri": "https://localhost:8080/"
        },
        "id": "Lttms8YQJxix",
        "outputId": "0ee2ae73-e2e3-4a6a-b8f7-e99ee2b2a5f0"
      },
      "execution_count": 55,
      "outputs": [
        {
          "output_type": "stream",
          "name": "stdout",
          "text": [
            "Enter the weight: 180\n",
            "Enter the (K)g or (L)bs: 200\n",
            "Weight in (K)gs:81.0\n"
          ]
        }
      ]
    },
    {
      "cell_type": "markdown",
      "source": [
        "WHILE LOOP: repeat the code multiple time"
      ],
      "metadata": {
        "id": "o6KOwfTELq3p"
      }
    },
    {
      "cell_type": "code",
      "source": [
        "i=1\n",
        "while i<=1_0:#(underscores is use for readable)\n",
        "  print(i)\n",
        "  i=i+1"
      ],
      "metadata": {
        "colab": {
          "base_uri": "https://localhost:8080/"
        },
        "id": "5I6NThsFIJlg",
        "outputId": "25e51b9d-8fcd-46cf-f9c8-2f18c6094319"
      },
      "execution_count": 57,
      "outputs": [
        {
          "output_type": "stream",
          "name": "stdout",
          "text": [
            "1\n",
            "2\n",
            "3\n",
            "4\n",
            "5\n",
            "6\n",
            "7\n",
            "8\n",
            "9\n",
            "10\n"
          ]
        }
      ]
    },
    {
      "cell_type": "code",
      "source": [
        "i=2\n",
        "while i<=50:\n",
        "  print(i*'*')\n",
        "  i=i+5"
      ],
      "metadata": {
        "colab": {
          "base_uri": "https://localhost:8080/"
        },
        "id": "IPvugi8YMLNm",
        "outputId": "8ea74302-b0fb-4c2c-ec0e-aab444f9e1a1"
      },
      "execution_count": 60,
      "outputs": [
        {
          "output_type": "stream",
          "name": "stdout",
          "text": [
            "**\n",
            "*******\n",
            "************\n",
            "*****************\n",
            "**********************\n",
            "***************************\n",
            "********************************\n",
            "*************************************\n",
            "******************************************\n",
            "***********************************************\n"
          ]
        }
      ]
    },
    {
      "cell_type": "markdown",
      "source": [
        "LIST"
      ],
      "metadata": {
        "id": "JKiLe4G8Mso-"
      }
    },
    {
      "cell_type": "code",
      "source": [
        "Names=[\"John\",\"Bob\",\"Mosh\",\"Sam\",\"Mary\"]\n",
        "print(Names[4]) # Which is called indexing: Fetching single element at a time\n",
        "print(Names[0:4]) # Which is called slicing: Fetching multiple elements at the time"
      ],
      "metadata": {
        "colab": {
          "base_uri": "https://localhost:8080/"
        },
        "id": "DkaADi7cMrgY",
        "outputId": "fff120bb-13f8-4b05-8e1b-ea94c23e66aa"
      },
      "execution_count": 62,
      "outputs": [
        {
          "output_type": "stream",
          "name": "stdout",
          "text": [
            "Mary\n",
            "['John', 'Bob', 'Mosh', 'Sam']\n"
          ]
        }
      ]
    },
    {
      "cell_type": "code",
      "source": [
        "print(Names[-2])\n",
        "print(Names[-1:-5])"
      ],
      "metadata": {
        "colab": {
          "base_uri": "https://localhost:8080/"
        },
        "id": "2WQSScdINl3n",
        "outputId": "bd6329bc-c6a4-453d-8614-264e5504865c"
      },
      "execution_count": 65,
      "outputs": [
        {
          "output_type": "stream",
          "name": "stdout",
          "text": [
            "Sam\n",
            "[]\n"
          ]
        }
      ]
    },
    {
      "cell_type": "markdown",
      "source": [
        "List Methods:"
      ],
      "metadata": {
        "id": "vtfTxo2kN5CI"
      }
    },
    {
      "cell_type": "code",
      "source": [
        "N=[1,2,3,4,5]\n",
        "a=N.append(6)\n",
        "print(a)\n",
        "b=N.insert(0,-1)\n",
        "print(b)\n",
        "c=N.remove(3)\n",
        "print(c)\n",
        "print(1 in N)\n",
        "print(len(N))"
      ],
      "metadata": {
        "colab": {
          "base_uri": "https://localhost:8080/"
        },
        "id": "LNCCteVoOkzM",
        "outputId": "0d9f5270-959c-4a42-f03b-0068a049ce66"
      },
      "execution_count": 80,
      "outputs": [
        {
          "output_type": "stream",
          "name": "stdout",
          "text": [
            "None\n",
            "None\n",
            "None\n",
            "True\n",
            "6\n"
          ]
        }
      ]
    },
    {
      "cell_type": "markdown",
      "source": [
        "For loops: Short and easy to understand than the while loop.\n"
      ],
      "metadata": {
        "id": "ievsa8wDPpsI"
      }
    },
    {
      "cell_type": "code",
      "source": [
        "Number=[1,3,4,5,6,7,8]\n",
        "for item in Number:\n",
        "  print(item)"
      ],
      "metadata": {
        "colab": {
          "base_uri": "https://localhost:8080/"
        },
        "id": "hsftOJvRPxxB",
        "outputId": "42bc0ee8-e760-44a3-8007-8137bff83b59"
      },
      "execution_count": 83,
      "outputs": [
        {
          "output_type": "stream",
          "name": "stdout",
          "text": [
            "1\n",
            "3\n",
            "4\n",
            "5\n",
            "6\n",
            "7\n",
            "8\n"
          ]
        }
      ]
    },
    {
      "cell_type": "markdown",
      "source": [
        "RANGE() FUNCTION: use to generate the sequence function/ can store the sequence object."
      ],
      "metadata": {
        "id": "opp_Q-cvP9jY"
      }
    },
    {
      "cell_type": "code",
      "source": [
        "for i in range(0,50,5):\n",
        "  print(i)"
      ],
      "metadata": {
        "colab": {
          "base_uri": "https://localhost:8080/"
        },
        "id": "bSh1xpbIQA85",
        "outputId": "8abbbc91-7069-44d2-8f59-d6b4829b51ba"
      },
      "execution_count": 84,
      "outputs": [
        {
          "output_type": "stream",
          "name": "stdout",
          "text": [
            "0\n",
            "5\n",
            "10\n",
            "15\n",
            "20\n",
            "25\n",
            "30\n",
            "35\n",
            "40\n",
            "45\n"
          ]
        }
      ]
    },
    {
      "cell_type": "markdown",
      "source": [
        "Tuples: cannot change once we create them.\n",
        "We will use the list most of the time and avoid the tuples since it is immutable in nature only use when we don't want to change in future."
      ],
      "metadata": {
        "id": "vvYWXol7QsaV"
      }
    },
    {
      "cell_type": "markdown",
      "source": [],
      "metadata": {
        "id": "-_n-m3Q5Po4R"
      }
    }
  ]
}